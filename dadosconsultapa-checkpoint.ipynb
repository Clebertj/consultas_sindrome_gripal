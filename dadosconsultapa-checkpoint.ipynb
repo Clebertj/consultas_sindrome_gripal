{
 "cells": [
  {
   "cell_type": "code",
   "execution_count": 3,
   "id": "4a63e2b3",
   "metadata": {},
   "outputs": [],
   "source": [
    "import pandas as pd"
   ]
  },
  {
   "cell_type": "code",
   "execution_count": null,
   "id": "bc957cd5",
   "metadata": {},
   "outputs": [],
   "source": []
  },
  {
   "cell_type": "code",
   "execution_count": 4,
   "id": "ff6a20c0",
   "metadata": {
    "scrolled": true
   },
   "outputs": [
    {
     "data": {
      "text/html": [
       "<div>\n",
       "<style scoped>\n",
       "    .dataframe tbody tr th:only-of-type {\n",
       "        vertical-align: middle;\n",
       "    }\n",
       "\n",
       "    .dataframe tbody tr th {\n",
       "        vertical-align: top;\n",
       "    }\n",
       "\n",
       "    .dataframe thead th {\n",
       "        text-align: right;\n",
       "    }\n",
       "</style>\n",
       "<table border=\"1\" class=\"dataframe\">\n",
       "  <thead>\n",
       "    <tr style=\"text-align: right;\">\n",
       "      <th></th>\n",
       "      <th>data da solicitação</th>\n",
       "      <th>genero</th>\n",
       "      <th>municipio que solicitou consulta</th>\n",
       "      <th>especialidade Medica</th>\n",
       "      <th>Grau de complexidade</th>\n",
       "    </tr>\n",
       "  </thead>\n",
       "  <tbody>\n",
       "    <tr>\n",
       "      <th>0</th>\n",
       "      <td>2022-01-01 01:57:27.097</td>\n",
       "      <td>MASCULINO</td>\n",
       "      <td>PORTO ALEGRE</td>\n",
       "      <td>GASTROENTEROLOGIA HEPATITES VIRAIS ADULTO</td>\n",
       "      <td>MEDIA</td>\n",
       "    </tr>\n",
       "    <tr>\n",
       "      <th>1</th>\n",
       "      <td>2022-01-01 01:57:27.097</td>\n",
       "      <td>FEMININO</td>\n",
       "      <td>TAPES</td>\n",
       "      <td>ONCOLOGIA GINECO</td>\n",
       "      <td>MEDIA</td>\n",
       "    </tr>\n",
       "    <tr>\n",
       "      <th>2</th>\n",
       "      <td>2022-01-01 01:57:27.104</td>\n",
       "      <td>MASCULINO</td>\n",
       "      <td>PORTO ALEGRE</td>\n",
       "      <td>NEUROLOGIA ACIDENTE VASCULAR CEREBRAL</td>\n",
       "      <td>MEDIA</td>\n",
       "    </tr>\n",
       "    <tr>\n",
       "      <th>3</th>\n",
       "      <td>2022-01-01 01:57:27.104</td>\n",
       "      <td>MASCULINO</td>\n",
       "      <td>SANTA MARIA DO HERVAL</td>\n",
       "      <td>ENDOCRINOLOGIA TIREOIDE</td>\n",
       "      <td>ALTA</td>\n",
       "    </tr>\n",
       "    <tr>\n",
       "      <th>4</th>\n",
       "      <td>2022-01-01 01:57:27.109</td>\n",
       "      <td>MASCULINO</td>\n",
       "      <td>SAPIRANGA</td>\n",
       "      <td>ENDOCRINOLOGIA ADULTO</td>\n",
       "      <td>ALTA</td>\n",
       "    </tr>\n",
       "  </tbody>\n",
       "</table>\n",
       "</div>"
      ],
      "text/plain": [
       "       data da solicitação     genero municipio que solicitou consulta  \\\n",
       "0  2022-01-01 01:57:27.097  MASCULINO                     PORTO ALEGRE   \n",
       "1  2022-01-01 01:57:27.097   FEMININO                            TAPES   \n",
       "2  2022-01-01 01:57:27.104  MASCULINO                     PORTO ALEGRE   \n",
       "3  2022-01-01 01:57:27.104  MASCULINO            SANTA MARIA DO HERVAL   \n",
       "4  2022-01-01 01:57:27.109  MASCULINO                        SAPIRANGA   \n",
       "\n",
       "                        especialidade Medica Grau de complexidade  \n",
       "0  GASTROENTEROLOGIA HEPATITES VIRAIS ADULTO                MEDIA  \n",
       "1                           ONCOLOGIA GINECO                MEDIA  \n",
       "2      NEUROLOGIA ACIDENTE VASCULAR CEREBRAL                MEDIA  \n",
       "3                    ENDOCRINOLOGIA TIREOIDE                 ALTA  \n",
       "4                      ENDOCRINOLOGIA ADULTO                 ALTA  "
      ]
     },
     "execution_count": 4,
     "metadata": {},
     "output_type": "execute_result"
    }
   ],
   "source": [
    "df=pd\n",
    "df = pd.read_csv('consultaspa.csv', sep=';', usecols=[0, 4, 10, 12, 13])\n",
    "\n",
    "df.columns = ['data da solicitação','genero','municipio que solicitou consulta', 'especialidade Medica','Grau de complexidade']\n",
    "df.head()"
   ]
  },
  {
   "cell_type": "code",
   "execution_count": 5,
   "id": "ceacf950",
   "metadata": {},
   "outputs": [
    {
     "data": {
      "text/plain": [
       "data da solicitação                 944834\n",
       "genero                              944834\n",
       "municipio que solicitou consulta    944834\n",
       "especialidade Medica                944834\n",
       "Grau de complexidade                944834\n",
       "dtype: int64"
      ]
     },
     "execution_count": 5,
     "metadata": {},
     "output_type": "execute_result"
    }
   ],
   "source": [
    "df.count()"
   ]
  },
  {
   "cell_type": "code",
   "execution_count": 6,
   "id": "f73e585b",
   "metadata": {},
   "outputs": [
    {
     "data": {
      "text/html": [
       "<div>\n",
       "<style scoped>\n",
       "    .dataframe tbody tr th:only-of-type {\n",
       "        vertical-align: middle;\n",
       "    }\n",
       "\n",
       "    .dataframe tbody tr th {\n",
       "        vertical-align: top;\n",
       "    }\n",
       "\n",
       "    .dataframe thead th {\n",
       "        text-align: right;\n",
       "    }\n",
       "</style>\n",
       "<table border=\"1\" class=\"dataframe\">\n",
       "  <thead>\n",
       "    <tr style=\"text-align: right;\">\n",
       "      <th></th>\n",
       "      <th>data da solicitação</th>\n",
       "      <th>genero</th>\n",
       "      <th>municipio que solicitou consulta</th>\n",
       "      <th>especialidade Medica</th>\n",
       "      <th>Grau de complexidade</th>\n",
       "    </tr>\n",
       "  </thead>\n",
       "  <tbody>\n",
       "    <tr>\n",
       "      <th>count</th>\n",
       "      <td>944834</td>\n",
       "      <td>944834</td>\n",
       "      <td>944834</td>\n",
       "      <td>944834</td>\n",
       "      <td>944834</td>\n",
       "    </tr>\n",
       "    <tr>\n",
       "      <th>unique</th>\n",
       "      <td>37278</td>\n",
       "      <td>3</td>\n",
       "      <td>492</td>\n",
       "      <td>233</td>\n",
       "      <td>2</td>\n",
       "    </tr>\n",
       "    <tr>\n",
       "      <th>top</th>\n",
       "      <td>2022-01-01 01:57:38.682</td>\n",
       "      <td>FEMININO</td>\n",
       "      <td>PORTO ALEGRE</td>\n",
       "      <td>FISIOTERAPIA GERAL</td>\n",
       "      <td>MEDIA</td>\n",
       "    </tr>\n",
       "    <tr>\n",
       "      <th>freq</th>\n",
       "      <td>353</td>\n",
       "      <td>569689</td>\n",
       "      <td>701204</td>\n",
       "      <td>275156</td>\n",
       "      <td>776366</td>\n",
       "    </tr>\n",
       "  </tbody>\n",
       "</table>\n",
       "</div>"
      ],
      "text/plain": [
       "            data da solicitação    genero municipio que solicitou consulta  \\\n",
       "count                    944834    944834                           944834   \n",
       "unique                    37278         3                              492   \n",
       "top     2022-01-01 01:57:38.682  FEMININO                     PORTO ALEGRE   \n",
       "freq                        353    569689                           701204   \n",
       "\n",
       "       especialidade Medica Grau de complexidade  \n",
       "count                944834               944834  \n",
       "unique                  233                    2  \n",
       "top      FISIOTERAPIA GERAL                MEDIA  \n",
       "freq                 275156               776366  "
      ]
     },
     "execution_count": 6,
     "metadata": {},
     "output_type": "execute_result"
    }
   ],
   "source": [
    "df.describe()"
   ]
  },
  {
   "cell_type": "code",
   "execution_count": 7,
   "id": "9a6db3fa",
   "metadata": {},
   "outputs": [
    {
     "data": {
      "text/plain": [
       "data da solicitação                 object\n",
       "genero                              object\n",
       "municipio que solicitou consulta    object\n",
       "especialidade Medica                object\n",
       "Grau de complexidade                object\n",
       "dtype: object"
      ]
     },
     "execution_count": 7,
     "metadata": {},
     "output_type": "execute_result"
    }
   ],
   "source": [
    "df.dtypes"
   ]
  },
  {
   "cell_type": "code",
   "execution_count": 13,
   "id": "d386ff3c",
   "metadata": {},
   "outputs": [
    {
     "data": {
      "text/plain": [
       "PORTO ALEGRE              701204\n",
       "IJUI                       12994\n",
       "ALVORADA                   11703\n",
       "VIAMAO                     11411\n",
       "TRES DE MAIO               10113\n",
       "                           ...  \n",
       "MONTAURI                       1\n",
       "CIRIACO                        1\n",
       "BARRA DO RIO AZUL              1\n",
       "MAXIMILIANO DE ALMEIDA         1\n",
       "PAIM FILHO                     1\n",
       "Name: municipio que solicitou consulta, Length: 492, dtype: int64"
      ]
     },
     "execution_count": 13,
     "metadata": {},
     "output_type": "execute_result"
    }
   ],
   "source": [
    "df['municipio que solicitou consulta'].value_counts()"
   ]
  },
  {
   "cell_type": "code",
   "execution_count": 14,
   "id": "7ef608d2",
   "metadata": {},
   "outputs": [
    {
     "data": {
      "text/plain": [
       "<AxesSubplot:>"
      ]
     },
     "execution_count": 14,
     "metadata": {},
     "output_type": "execute_result"
    },
    {
     "data": {
      "image/png": "[encoded data removed]",
      "text/plain": [
       "<Figure size 432x288 with 1 Axes>"
      ]
     },
     "metadata": {
      "needs_background": "light"
     },
     "output_type": "display_data"
    }
   ],
   "source": [
    "%matplotlib inline\n",
    "\n",
    "df['genero'].value_counts().plot.bar()"
   ]
  },
  {
   "cell_type": "code",
   "execution_count": 24,
   "id": "c32afaf2",
   "metadata": {},
   "outputs": [
    {
     "data": {
      "text/plain": [
       "array(['GASTROENTEROLOGIA HEPATITES VIRAIS ADULTO', 'ONCOLOGIA GINECO',\n",
       "       'NEUROLOGIA ACIDENTE VASCULAR CEREBRAL', 'ENDOCRINOLOGIA TIREOIDE',\n",
       "       'ENDOCRINOLOGIA ADULTO', 'UROLOGIA ADULTO',\n",
       "       'SAUDE MENTAL INFANTIL', 'FISIOTERAPIA GERAL',\n",
       "       'OFTALMOLOGIA GERAL ADULTO', 'OFTALMOLOGIA PEDIÁTRICA',\n",
       "       'CARDIOLOGIA ADULTO', 'ORTOPEDIA QUADRIL', 'ORTOPEDIA JOELHO',\n",
       "       'GINECOLOGIA PLANEJAMENTO FAMILIAR', 'NUTRICAO ADULTO',\n",
       "       'SAUDE MENTAL ALCOOL E DROGAS', 'CIRURGIA GERAL ADULTO',\n",
       "       'PRÓTESE DENTÁRIA PARCIAL REMOVÍVEL', 'INSUMOS PARA DIABETES',\n",
       "       'CIRURGIA PLASTICA ADULTO', 'GASTROENTEROLOGIA ADULTO',\n",
       "       'GINECOLOGIA COLO UTERINO', 'GINECOLOGIA GERAL',\n",
       "       'REUMATOLOGIA ADULTO', 'ESTOMIA',\n",
       "       'OTORRINOLARINGOLOGIA PEDIÁTRICA', 'DERMATOLOGIA ADULTO',\n",
       "       'IMUNOLOGIA GERAL', 'CARDIOLOGIA ARRITMIA', 'TRAUMATOLOGIA GERAL',\n",
       "       'SAUDE MENTAL ADULTO', 'FONOAUDIOLOGIA PEDIATRICA',\n",
       "       'ACUPUNTURA GERAL', 'TRAUMATOLOGIA PACS', 'ONCOLOGIA RADIOTERAPIA',\n",
       "       'PROFILAXIA PRÉ-EXPOSIÇÃO (PREP)', 'GINECOLOGIA LIGADURA TUBÁRIA',\n",
       "       'GINECOLOGIA HISTEROSCOPIA', 'CIRURGIA VASCULAR ARTERIAL',\n",
       "       'ORTOPEDIA COLUNA ADULTO', 'CIRURGIA BUCOMAXILOFACIAL CEO',\n",
       "       'NEUROCIRURGIA ADULTO', 'OFTALMOLOGIA PLASTICA OCULAR',\n",
       "       'ORTOPEDIA OMBRO', 'CARDIOLOGIA PEDIÁTRICA', 'PROCTOLOGIA ADULTO',\n",
       "       'REGULARIZACAO DE ACESSO', 'DERMATOLOGIA GERAL', 'ORTOPEDIA PE',\n",
       "       'CONSULTORIA CURATIVOS ESPECIALIZADOS', 'NEFROLOGIA ADULTO',\n",
       "       'UROLOGIA VASECTOMIA', 'OFTALMOLOGIA TRIAGEM VISUAL',\n",
       "       'OFTALMOLOGIA RETINOPATIA DIABETICA', 'ONCOLOGIA TUMORES DE PELE',\n",
       "       'OFTALMOLOGIA DESCOLAMENTO DE RETINA', 'PEDIATRIA  GERAL',\n",
       "       'FONOAUDIOLOGIA DISTURBIO DA DEGLUTICAO', 'ONCOLOGIA PROCTOLOGIA',\n",
       "       'CIRURGIA GERAL PEDIATRICA', 'ONCOLOGIA UROLOGIA',\n",
       "       'MEDICINA INTERNA- CLINICA GERAL', 'ONCOLOGIA NEUROCIRURGIA',\n",
       "       'CIRURGIA BUCO CEO GHC', 'ENDODONTIA', 'OFTALMOLOGIA GLAUCOMA',\n",
       "       'NUTRICAO PEDIATRICA', 'OTORRINOLARINGOLOGIA ADULTO',\n",
       "       'ORTOPEDIA PEDIATRICA', 'HEMATOLOGIA HEMOGLOBINOPATIAS',\n",
       "       'UROLOGIA PEDIATRICA',\n",
       "       'PNEUMOLOGIA APNEIA DO SONO -POLISSONOGRAFIA',\n",
       "       'PNEUMOLOGIA ADULTO', 'CIRURGIA VASCULAR ADULTO',\n",
       "       'OFTALMOLOGIA CATARATA', 'FISIATRIA GERAL',\n",
       "       'DOENÇAS DO TRABALHO GERAL', 'PERIODONTIA',\n",
       "       'CIRURGIA VASCULAR VARIZES', 'GERIATRIA GERAL',\n",
       "       'NEUROLOGIA PEDIATRICA', 'AMBULATÓRIO AHF', 'ESTOMATOLOGIA CEO',\n",
       "       'ONCOLOGIA HEMATOLOGIA ADULTO', 'REABILITAÇÃO INTELECTUAL',\n",
       "       'GINECOLOGIA ESTATICA PELVICA- INCONTINENCIA URINARIA',\n",
       "       'INFECTOLOGIA ADULTO', 'REABILITACAO AUDITIVA PEDIATRICA',\n",
       "       'ORTOPEDIA MAO ADULTO', 'REGULACAO PASSIVO', 'NEUROLOGIA ADULTO',\n",
       "       'NEUROLOGIA EPILEPSIA GRAVE- CIRURGIA DA EPILEPSIA',\n",
       "       'INFECTOLOGIA HIV ADULTO', 'OFTALMOLOGIA CORNEA',\n",
       "       'CIRURGIA BUCO PEDIÁTRICA', 'OFTALMOLOGIA UVEITE',\n",
       "       'CURATIVOS ESPECIALIZADOS', 'GINECOLOGIA CIRURGIA',\n",
       "       'GINECOLOGIA INFERTILIDADE', 'GENETICA MEDICA GERAL',\n",
       "       'GASTROENTEROLOGIA PEDIATRICA', 'OFTALMOLOGIA ESTRABISMO',\n",
       "       'CIRURGIA PLASTICA FENDA PALATINA',\n",
       "       'CIRURGIA DO APARELHO DIGESTIVO ADULTO', 'DERMATOLOGIA PEDIÁTRICA',\n",
       "       'REABILITACAO FISICA', 'ONCOLOGIA CLINICA E QUIMIOTERAPIA',\n",
       "       'REABILITACAO AUDITIVA ADULTO',\n",
       "       'ONCOLOGIA CIRURGIA DE CABECA E PESCOCO',\n",
       "       'ONCOLOGIA CIRURGIA GASTROINTESTINAL', 'ODONTOPEDIATRIA',\n",
       "       'PRE-NATAL ALTO RISCO REGIONALIZADO', 'PRE-NATAL ALTO RISCO',\n",
       "       'ORTOPEDIA ADULTO', 'ESTIMULAÇÃO PRECOCE',\n",
       "       'SAUDE MENTAL TRANSEXUALIDADE', 'NEUROLOGIA PARKINSON',\n",
       "       'GENETICA MEDICA PEDIATRICA', 'FONOAUDIOLOGIA ADULTO',\n",
       "       'LINHA DE CUIDADO DO TRAUMA', 'GINECOLOGIA CLIMATERIO',\n",
       "       'CIRURGIA TORACICA ADULTO', 'PRE-NATAL MEDICINA FETAL',\n",
       "       'ONCOLOGIA CIRURGIA DA MAMA', 'UROLOGIA BIOPSIA DE PROSTATA',\n",
       "       'ENDOCRINOLOGIA PEDIATRICA', 'ONCOLOGIA ENDOCRINO',\n",
       "       'CONSULTA EM TUBERCULOSE',\n",
       "       'GASTROENTEROLOGIA AVALIACAO PRE-TRANSPLANTE HEPATICO ADULTO',\n",
       "       'HOMEOPATIA GERAL', 'HEMATOLOGIA AVALIACAO PRE-TRANSPLANTE ADULTO',\n",
       "       'PEDIATRIA DISTURBIO DO DESENVOLVIMENTO', 'GINECOLOGIA MAMA',\n",
       "       'ONCOLOGIA CIRURGIA GERAL', 'PRÓTESE DENTÁRIA TOTAL REMOVÍVEL',\n",
       "       'FISIATRIA ESPASTICIDADE -TOXINA BOTULINICA', 'PRE-NATAL DIABETES',\n",
       "       'CIRURGIA PLASTICA PEQUENO PORTE', 'CIRURGIA BARIÁTRICA',\n",
       "       'CIRURGIA CARDIACA ADULTO', 'NEUROCIRURGIA PEDIATRICA',\n",
       "       'CIRURGIA BUCO HOSPITALAR',\n",
       "       'GINECOLOGIA  VULNERABILIDADE E ANTICONCEPCAO',\n",
       "       'HEMATOLOGIA  PEDIATRICA', 'OFTALMOLOGIA -NEUROFTALMOLOGIA',\n",
       "       'HEMATOLOGIA ADULTO', 'PRE-NATAL HIV',\n",
       "       'LINHA DE CUIDADO DOR TORACICA', 'TRATAMENTO DA DOR',\n",
       "       'NEFROLOGIA PEDIATRICA', 'NEUROLOGIA DOENÇAS NEUROMUSCULARES',\n",
       "       'NEUROLOGIA DEMENCIA', 'ESTOMATOLOGIA ESPECIAL',\n",
       "       'OFTALMOLOGIA AVALIAÇÃO PRE TRANSPLANTE DE CORNEA',\n",
       "       'PRE-NATAL ADOLESCENCIA',\n",
       "       'LINHA DE CUIDADO OFTALMO - DISQUE RETINA',\n",
       "       'GINECOLOGIA INFANTO PUBERAL', 'NEFROLOGIA - DIALISE',\n",
       "       'OXIGENOTERAPIA DOMICILIAR', 'ESTOMATOLOGIA GERAL',\n",
       "       'ANDROLOGIA ADULTO', 'LINHA DE CUIDADO AIT/AVC',\n",
       "       'ONCOLOGIA BRAQUITERAPIA', 'CIRURGIA PLASTICA PEDIATRICA',\n",
       "       'PRE-NATAL DE RISCO HABITUAL', 'ONCOLOGIA CIRURGIA TORACICA',\n",
       "       'OTORRINOLARINGOLOGIA LARINGE',\n",
       "       'NEFROLOGIA AVALIACAO PRE-TRANSPLANTE ADULTO',\n",
       "       'GINECOLOGIA LAPAROSCOPIA',\n",
       "       'SAUDE MENTAL ALCOOL E DROGAS PEDIATRICA',\n",
       "       'CARDIOLOGIA INSUFICIENCIA CARDIACA', 'APOIO ONCOLOGIA ICI',\n",
       "       'ONCOLOGIA PEDIATRICA', 'PNEUMOLOGIA PEDIATRICA',\n",
       "       'ONCOLOGIA TUMORES ÓSSEOS', 'NEUROCIRURGIA COLUNA ADULTO',\n",
       "       'GASTROENTEROLOGIA AVALIACAO PRE-TRANPLANTE HEPATICO DOADOR',\n",
       "       'OFTALMOLOGIA CATARATA CONGENITA',\n",
       "       'HEMATOLOGIA AVALIACAO PRE-TRANSPLANTE DOADOR',\n",
       "       'GASTROENTEROLOGIA-DOENÇA INFLAMATORIA INTESTINAL',\n",
       "       'INFECTOLOGIA PEDIATRICA', 'ODONTOLOGIA PCD C/ ANESTESIA GERAL',\n",
       "       'HEMATOLOGIA SOBRECARGA DE FERRO',\n",
       "       'PROFILAXIA PÓS-EXPOSIÇÃO (PEP)',\n",
       "       'GASTROENTEROLOGIA AVALIACAO PRE-TRANSPLANTE HEPATICO PEDIATRICO',\n",
       "       'CARDIOLOGIA AVALIACAO PRE-TRANSPLANTE',\n",
       "       'ONCOLOGIA GINECO TUMORES TROFOBLASTICOS',\n",
       "       'ODONTOLOGIA HOSPITALAR PEDIÁTRICA',\n",
       "       'ONCOLOGIA OFTALMOLOGIA TUMORES OCULARES', 'OSTEOPATIA GERAL',\n",
       "       'REUMATOLOGIA PEDIATRICA', 'REABILITACAO VISUAL',\n",
       "       'NEUROLOGIA DISTONIA- TOXINA BOTULINICA',\n",
       "       'CARDIOLOGIA CARDIOPATIA ISQUEMICA',\n",
       "       'NEURORADIOLOGIA ENDOVASCULAR', 'CIRURGIA PLASTICA MAO',\n",
       "       'CIRURGIA BUCO ADULTO', 'PSIQUIATRIA PREJUIZO COGNITIVO NO IDOSO',\n",
       "       'CIRURGIA PLASTICA- MICROCIRURGIA HANSENIASE',\n",
       "       'NEUROLOGIA ESCLEROSE MULTIPLA', 'IMPLANTE COCLEAR',\n",
       "       'ENDOCRINOLOGIA DIABETE INFANTO JUVENIL',\n",
       "       'HEMATOLOGIA AVALIACAO PRE-TRANSPLANTE PEDIATRICO ALOGENICO',\n",
       "       'NEFROLOGIA AVALIACAO PRE-TRANSPLANTE DOADOR',\n",
       "       'ORTOPEDIA COLUNA PEDIATRICA',\n",
       "       'TRIAGEM AUDITIVA / RETESTE (TESTE DA ORELHINHA)',\n",
       "       'PNEUMOLOGIA AVALIACAO PRE-TRANSPLANTE',\n",
       "       'NEFROLOGIA AVALIACAO PRE-TRANSPLANTE PEDIATRICO',\n",
       "       'PNEUMOLOGIA FIBROSE CISTICA PEDIATRICA',\n",
       "       'PACIENTES COM NECESSIDADES ESPECIAIS EM ODONTOLOGIA',\n",
       "       'ADOLESCENCIA/HEBIATRIA', 'PNEUMOLOGIA FIBROSE CISTICA',\n",
       "       'CIRURGIA PLASTICA RECONSTRUCAO DE MAMA', 'ONCOLOGIA IODOTERAPIA',\n",
       "       'CIRURGIA TORACICA PEDIATRICA', 'ONCOLOGIA HEMATOLOGIA PEDIATRICA',\n",
       "       'ATENDIMENTO POS-COVID', 'INFECTOLOGIA HIV PEDIATRICA',\n",
       "       'PRÓTESE DENTÁRIA GHC', 'INFECTOLOGIA LIPODISTROFIA HIV',\n",
       "       'CIRURGIA CRANIOMAXILOFACIAL', 'SEXOLOGIA GERAL', 'ENDODONTIA I',\n",
       "       'HEMATOLOGIA AVALIACAO PRE-TRANSPLANTE PEDIATRICO',\n",
       "       'CARDIOLOGIA AVALIACAO PRE-TRANSPLANTE PEDIATRICO',\n",
       "       'PSIQUIATRIA PSICOTERAPIA',\n",
       "       'LINHA DE CUIDADO OFTALMO - DIQUE CORNEA',\n",
       "       'NEUROLOGIA EPILEPSIA GRAVE- CIRURGIA EPILEPSIA PEDIATRICA',\n",
       "       'UROLOGIA LITOTRIPSIA', 'ODONTOLOGIA_ PARA_ BEBÊS',\n",
       "       'PNEUMOLOGIA ABANDONO TABAGISMO',\n",
       "       'GASTROENTEROLOGIA HEPATITES PEDIATRICA', 'DTM'], dtype=object)"
      ]
     },
     "execution_count": 24,
     "metadata": {},
     "output_type": "execute_result"
    }
   ],
   "source": [
    "# listar municipio ou outro\n",
    "df['especialidade Medica'].unique()"
   ]
  },
  {
   "cell_type": "code",
   "execution_count": 21,
   "id": "793d642e",
   "metadata": {},
   "outputs": [
    {
     "data": {
      "text/plain": [
       "FISIOTERAPIA GERAL                        275156\n",
       "REABILITAÇÃO INTELECTUAL                   34913\n",
       "CARDIOLOGIA ADULTO                         34615\n",
       "OFTALMOLOGIA GERAL ADULTO                  30024\n",
       "CIRURGIA GERAL ADULTO                      19078\n",
       "                                           ...  \n",
       "GASTROENTEROLOGIA HEPATITES PEDIATRICA         6\n",
       "CIRURGIA PLASTICA MAO                          3\n",
       "PNEUMOLOGIA ABANDONO TABAGISMO                 2\n",
       "ODONTOLOGIA_ PARA_ BEBÊS                       1\n",
       "DTM                                            1\n",
       "Name: especialidade Medica, Length: 233, dtype: int64"
      ]
     },
     "execution_count": 21,
     "metadata": {},
     "output_type": "execute_result"
    }
   ],
   "source": [
    "df['especialidade Medica'].value_counts()"
   ]
  },
  {
   "cell_type": "code",
   "execution_count": 26,
   "id": "c0540908",
   "metadata": {},
   "outputs": [
    {
     "data": {
      "text/plain": [
       "<AxesSubplot:>"
      ]
     },
     "execution_count": 26,
     "metadata": {},
     "output_type": "execute_result"
    },
    {
     "data": {
      "image/png": "[encoded data removed]",
      "text/plain": [
       "<Figure size 432x288 with 1 Axes>"
      ]
     },
     "metadata": {
      "needs_background": "light"
     },
     "output_type": "display_data"
    }
   ],
   "source": [
    "%matplotlib inline\n",
    "\n",
    "df['Grau de complexidade'].value_counts().plot.bar()"
   ]
  },
  {
   "cell_type": "code",
   "execution_count": 27,
   "id": "5269e117",
   "metadata": {},
   "outputs": [
    {
     "data": {
      "text/plain": [
       "array(['PORTO ALEGRE', 'TAPES', 'SANTA MARIA DO HERVAL', 'SAPIRANGA',\n",
       "       'ENCRUZILHADA DO SUL', 'SOBRADINHO', 'VERA CRUZ', 'VIAMAO',\n",
       "       'ESTEIO', 'ALVORADA', 'SANTANA DO LIVRAMENTO', 'BOM RETIRO DO SUL',\n",
       "       'CANOAS', 'CACHOEIRA DO SUL', 'CERRO GRANDE DO SUL',\n",
       "       'CAPAO DA CANOA', 'GRAVATAI', 'ARROIO GRANDE', 'CHARQUEADAS',\n",
       "       'ESTANCIA VELHA', 'SANTO ANTONIO DA PATRULHA', 'NOVA ROMA DO SUL',\n",
       "       'TUPARENDI', 'CAMAQUA', 'TORRES', 'JULIO DE CASTILHOS',\n",
       "       'SAO LEOPOLDO', 'PASSA SETE', 'RIO PARDO', 'FARROUPILHA', 'OSORIO',\n",
       "       'ARAMBARE', 'PORTAO', 'CACHOEIRINHA', 'NOVO HAMBURGO',\n",
       "       'BENTO GONCALVES', 'BAGE', 'ROQUE GONZALES', 'TRAMANDAI',\n",
       "       'IGREJINHA', 'PANAMBI', 'LAJEADO', 'BALNEARIO PINHAL',\n",
       "       'ELDORADO DO SUL', 'SANTA CLARA DO SUL', 'BARRA DO RIBEIRO',\n",
       "       'CAMPO BOM', 'HULHA NEGRA', 'MOSTARDAS', 'SERTAO SANTANA',\n",
       "       'CANGUCU', 'IMBE', 'CHUVISCA', 'GUAIBA', 'CAPELA DE SANTANA',\n",
       "       'ARROIO DO SAL', 'TRES CACHOEIRAS', 'NOVA SANTA RITA', 'BUTIA',\n",
       "       'SAO VENDELINO', 'ARROIO DOS RATOS', 'DOM FELICIANO',\n",
       "       'NOVA BRESCIA', 'IVOTI', 'IPE', 'ROSARIO DO SUL',\n",
       "       'PALMARES DO SUL', 'SALVADOR DO SUL', 'NOVA PETROPOLIS',\n",
       "       'LINHA NOVA', 'TRIUNFO', 'ROLANTE', 'CAXIAS DO SUL', 'URUGUAIANA',\n",
       "       'SENTINELA DO SUL', 'DOIS IRMAOS', 'TAQUARI', 'SANTA CRUZ DO SUL',\n",
       "       'PELOTAS', 'SANTO ANGELO', 'PANTANO GRANDE', 'ARROIO DO TIGRE',\n",
       "       'MINAS DO LEAO', 'TAQUARA', 'MONTENEGRO', 'FELIZ',\n",
       "       'MARIANA PIMENTEL', 'BARAO', 'SAO JOSE DO OURO', 'SERIO',\n",
       "       'PASSO FUNDO', 'MAQUINE', 'ITAARA', 'ARARICA',\n",
       "       'SAO PEDRO DA SERRA', 'ITATI', 'CANDELARIA', 'PAROBE', 'TAVARES',\n",
       "       'TRES COROAS', 'SAPUCAIA DO SUL', 'SAO JERONIMO',\n",
       "       'DOM PEDRO DE ALCANTARA', 'SINIMBU', 'CIDREIRA', 'CANELA', 'TABAI',\n",
       "       'UNIAO DA SERRA', 'ERECHIM', 'CACAPAVA DO SUL', 'SANTO CRISTO',\n",
       "       'ESTRELA', 'SAO FRANCISCO DE PAULA', 'CARAA', 'ILOPOLIS',\n",
       "       'SANTA MARIA', 'VACARIA', 'XANGRI-LA', 'MATA',\n",
       "       'PALMEIRA DAS MISSOES', 'SANTA ROSA', 'CERRO BRANCO', 'TEUTONIA',\n",
       "       'TUPANDI', 'SAO GABRIEL', 'RIO GRANDE', 'TUPANCIRETA', 'CRISTAL',\n",
       "       'SAO JOSE DO HORTENCIO', 'TRES FORQUILHAS', 'LAVRAS DO SUL',\n",
       "       'BOM JESUS', 'TERRA DE AREIA', 'CORONEL PILAR', 'SAO NICOLAU',\n",
       "       'VERANOPOLIS', 'GLORINHA', 'CAPIVARI DO SUL', 'DERRUBADAS',\n",
       "       'PARECI NOVO', 'VENANCIO AIRES', 'BOSSOROCA', 'ALEGRETE',\n",
       "       'POCO DAS ANTAS', 'DOM PEDRITO', 'FLORES DA CUNHA', 'MORRO REUTER',\n",
       "       'SAO SEBASTIAO DO CAI', 'TUCUNDUVA', 'GUAPORE', 'HARMONIA',\n",
       "       'ENTRE-IJUIS', 'MARQUES DE SOUZA', 'BARAO DO TRIUNFO', 'ACEGUA',\n",
       "       'MUCUM', 'PICADA CAFE', 'NOVO TIRADENTES', 'IBARAMA', 'HERVEIRAS',\n",
       "       'PAVERAMA', 'FREDERICO WESTPHALEN', 'GRAMADO', 'RONDA ALTA',\n",
       "       'ROLADOR', 'TAPEJARA', 'SERAFINA CORREA', 'SAO LUIZ GONZAGA',\n",
       "       'SALVADOR DAS MISSOES', 'NOVA HARTZ', 'GUARANI DAS MISSOES',\n",
       "       'CARAZINHO', 'LINDOLFO COLLOR', 'GIRUA', 'VILA FLORES', 'CANDIOTA',\n",
       "       'ARROIO DO MEIO', 'GENERAL CAMARA', 'CRUZ ALTA', 'VALE DO SOL',\n",
       "       'MORRINHOS DO SUL', 'VITORIA DAS MISSOES', 'BOM PRINCIPIO',\n",
       "       'MARATA', 'CERRO LARGO', 'ANTONIO PRADO', 'ITAQUI',\n",
       "       'VESPASIANO CORREA', 'TRAVESSEIRO', 'CRUZEIRO DO SUL', 'SOLEDADE',\n",
       "       'DOUTOR RICARDO', 'BOQUEIRAO DO LEAO', 'NONOAI', 'MARAU',\n",
       "       'MARCELINO RAMOS', 'SAO JOSE DO HERVAL', 'JAQUIRANA',\n",
       "       'PINHEIRO MACHADO', 'SALTO DO JACUI', 'IBIRUBA', 'AMARAL FERRADOR',\n",
       "       'TURUCU', 'SAO JOSE DO NORTE', 'CAMBARA DO SUL',\n",
       "       'SANTA VITORIA DO PALMAR', 'TRES PASSOS', 'ALTO FELIZ',\n",
       "       'BENJAMIN CONSTANT DO SUL', 'IJUI', 'SAO LOURENCO DO SUL',\n",
       "       'PRESIDENTE LUCENA', 'SAO MIGUEL DAS MISSOES', 'AGUDO',\n",
       "       'RODEIO BONITO', 'SAO JOSE DO SUL', 'PARAI', 'SAO MARCOS',\n",
       "       'SAO BORJA', 'PINTO BANDEIRA', 'CARLOS GOMES', 'PROGRESSO',\n",
       "       'QUARAI', 'CARLOS BARBOSA', 'PORTO XAVIER', 'COQUEIRO BAIXO',\n",
       "       'NOVO CABRAIS', 'WESTFALIA', 'BOA VISTA DO BURICA',\n",
       "       'FAGUNDES VARELA', 'HUMAITA', 'NOVA PRATA', 'PIRATINI',\n",
       "       'AUGUSTO PESTANA', 'SAO PEDRO DO SUL', 'IMIGRANTE',\n",
       "       'MUITOS CAPOES', 'ESTRELA VELHA', 'FORTALEZA DOS VALOS', 'IBIACA',\n",
       "       'AMETISTA DO SUL', 'MANOEL VIANA', 'RELVADO', 'HORIZONTINA',\n",
       "       'MACHADINHO', 'SANTANA DA BOA VISTA', 'SEBERI', 'NOVA BOA VISTA',\n",
       "       'GETULIO VARGAS', 'SANTIAGO', 'TRES DE MAIO', 'ESPUMOSO',\n",
       "       'SARANDI', 'SEGREDO', 'AJURICABA', 'BROCHIER',\n",
       "       'CAPAO BONITO DO SUL', 'PIRAPO', 'CATUIPE',\n",
       "       'SENADOR SALGADO FILHO', 'CAPAO DO LEAO', 'CANDIDO GODOI',\n",
       "       'PARAISO DO SUL', 'CONSTANTINA', 'FONTOURA XAVIER', 'RIOZINHO',\n",
       "       'DOIS LAJEADOS', 'CENTENARIO', 'CASCA', 'JAGUARAO',\n",
       "       'DOUTOR MAURICIO CARDOSO', 'NICOLAU VERGUEIRO', 'GARIBALDI',\n",
       "       'TIRADENTES DO SUL', 'ESTACAO', 'CHAPADA', 'SANTA BARBARA DO SUL',\n",
       "       'LAGOA VERMELHA', 'SAO SEPE', 'SAO FRANCISCO DE ASSIS',\n",
       "       'MAMPITUBA', 'POUSO NOVO', 'BOM PROGRESSO', 'TAQUARUCU DO SUL',\n",
       "       'DAVID CANABARRO', 'PASSO DO SOBRADO', 'ENCANTADO',\n",
       "       'VICENTE DUTRA', 'ALECRIM', 'ROCA SALES', 'RONDINHA',\n",
       "       'MORRO REDONDO', 'CHUI', 'CAIBATE', 'QUINZE DE NOVEMBRO',\n",
       "       'FORQUETINHA', 'CAMPINA DAS MISSOES', 'VISTA ALEGRE DO PRATA',\n",
       "       'SANTO ANTONIO DAS MISSOES', 'ALTO ALEGRE', 'ERVAL SECO',\n",
       "       'ANTA GORDA', 'ARROIO DO PADRE', 'PUTINGA', 'NOVA PADUA',\n",
       "       'TRES ARROIOS', 'GARRUCHOS', 'AUREA', 'FAZENDA VILANOVA',\n",
       "       'BOA VISTA DAS MISSOES', 'CAPITAO', 'PLANALTO', 'SANTO AUGUSTO',\n",
       "       'SAO JOAO DA URTIGA', 'COLINAS', 'SAO VALENTIM DO SUL',\n",
       "       'SANANDUVA', 'MATO LEITAO', 'PINHAL', 'PINHEIRINHO DO VALE',\n",
       "       'PONTAO', 'CORONEL BARROS', 'JACUTINGA', 'SAO JOSE DOS AUSENTES',\n",
       "       'VALE REAL', 'VICTOR GRAEFF', 'CRISSIUMAL', 'VILA MARIA', 'TOROPI',\n",
       "       'REDENTORA', 'MONTE ALEGRE DOS CAMPOS', 'PEDRO OSORIO',\n",
       "       'GRAMADO XAVIER', 'CAMPOS BORGES', 'PROTASIO ALVES', 'SELBACH',\n",
       "       'SAO PEDRO DO BUTIA', 'CACEQUI', 'CAICARA', 'BARRA FUNDA',\n",
       "       'TAPERA', 'NAO-ME-TOQUE', 'PINHAL GRANDE', 'FORMIGUEIRO',\n",
       "       'RESTINGA SECA', 'DEZESSEIS DE NOVEMBRO', 'IBIRAPUITA',\n",
       "       'ITATIBA DO SUL', 'EREBANGO', 'CAMPESTRE DA SERRA',\n",
       "       'TRINDADE DO SUL', 'LIBERATO SALZANO', 'PORTO LUCENA',\n",
       "       'MARIANO MORO', 'HERVAL', 'BARRA DO QUARAI', 'UNISTALDA',\n",
       "       'MIRAGUAI', 'GRAMADO DOS LOUREIROS', 'TENENTE PORTELA',\n",
       "       'SANTO ANTONIO DO PLANALTO', 'NOVO BARREIRO', 'INHACORA',\n",
       "       'BOA VISTA DO SUL', 'ALMIRANTE TAMANDARE DO SUL', 'JOIA',\n",
       "       'SAO JORGE', 'BARAO DE COTEGIPE', 'IBIRAIARAS', 'VISTA ALEGRE',\n",
       "       'ARVOREZINHA', 'SAO JOSE DO INHACORA', 'CONDOR',\n",
       "       'SETE DE SETEMBRO', 'MATO QUEIMADO', 'CORONEL BICACO',\n",
       "       'LAJEADO DO BUGRE', 'CRISTAL DO SUL', 'SAO JOSE DAS MISSOES',\n",
       "       'UBIRETAMA', 'DOIS IRMAOS DAS MISSOES', 'PALMITINHO', 'VALE VERDE',\n",
       "       'EUGENIO DE CASTRO', 'CERRITO', 'SAO PAULO DAS MISSOES',\n",
       "       'SAO VALERIO DO SUL', 'BOZANO', 'COXILHA', 'NOVA BASSANO',\n",
       "       'NOVO MACHADO', 'SAO VALENTIM', 'ENTRE RIOS DO SUL', 'PAULO BENTO',\n",
       "       'ITAPUCA', 'ALEGRIA', 'BARRA DO RIO AZUL', 'SERTAO',\n",
       "       'LAGOA DOS TRES CANTOS', 'SAO PEDRO DAS MISSOES',\n",
       "       'CAMPINAS DO SUL', 'SAO VICENTE DO SUL', 'VIADUTOS', 'TUNAS',\n",
       "       'QUATRO IRMAOS', 'MACAMBARA', 'NOVA ARACA', 'ESPERANCA DO SUL',\n",
       "       'SAO MARTINHO DA SERRA', 'SEDE NOVA', 'PORTO MAUA',\n",
       "       'INDEPENDENCIA', 'ARATIBA', 'SANTA CECILIA DO SUL',\n",
       "       'LAGOA BONITA DO SUL', 'ITACURUBI', 'PONTE PRETA', 'COLORADO',\n",
       "       'SAO MARTINHO', 'NOVA CANDELARIA', 'CAPAO DO CIPO',\n",
       "       'PORTO VERA CRUZ', 'IRAI', 'NOVA RAMADA', 'FAXINAL DO SOTURNO',\n",
       "       'VANINI', 'NOVA ESPERANCA DO SUL', 'NOVA PALMA', 'VISTA GAUCHA',\n",
       "       'JAGUARI', 'IVORA', 'IPIRANGA DO SUL', 'COTIPORA',\n",
       "       'SALDANHA MARINHO', 'ANDRE DA ROCHA', 'DILERMANDO DE AGUIAR',\n",
       "       'ERNESTINA', 'CANUDOS DO VALE', 'BOA VISTA DO INCRA',\n",
       "       'TRES PALMEIRAS', 'CERRO GRANDE', 'CHARRUA', 'MONTAURI',\n",
       "       'ALPESTRE', 'BARRA DO GUARITA', 'BARROS CASSAL',\n",
       "       'SANTA MARGARIDA DO SUL', 'AGUA SANTA', 'NOVA ALVORADA',\n",
       "       'CRUZALTENSE', 'DONA FRANCISCA', 'GAURAMA', 'VILA NOVA DO SUL',\n",
       "       'JACUIZINHO', 'BARRACAO', 'CHIAPETTA', 'ERVAL GRANDE', 'PEJUCARA',\n",
       "       'SANTO ANTONIO DO PALMA', 'CAMPO NOVO', 'SAO DOMINGOS DO SUL',\n",
       "       'BOA VISTA DO CADEADO', 'MATO CASTELHANO', 'FAXINALZINHO',\n",
       "       'ENGENHO VELHO', 'TIO HUGO', 'MAXIMILIANO DE ALMEIDA', 'ESMERALDA',\n",
       "       'SAGRADA FAMILIA', 'MORMACO', 'PINHAL DA SERRA', 'MULITERNO',\n",
       "       'PEDRAS ALTAS', 'CIRIACO', 'JARI', 'CAMARGO', 'FLORIANO PEIXOTO',\n",
       "       'TUPANCI DO SUL', 'QUEVEDOS', 'SAO JOAO DO POLESINE', 'JABOTICABA',\n",
       "       'BRAGA', 'GUABIJU', 'MONTE BELO DO SUL', 'SEVERIANO DE ALMEIDA',\n",
       "       'CACIQUE DOBLE', 'SANTO EXPEDITO DO SUL', 'COQUEIROS DO SUL',\n",
       "       'CASEIROS', 'SILVEIRA MARTINS', 'SANTA TEREZA', 'PAIM FILHO'],\n",
       "      dtype=object)"
      ]
     },
     "execution_count": 27,
     "metadata": {},
     "output_type": "execute_result"
    }
   ],
   "source": [
    "df['municipio que solicitou consulta'].unique()"
   ]
  },
  {
   "cell_type": "code",
   "execution_count": 30,
   "id": "e23dd074",
   "metadata": {},
   "outputs": [
    {
     "data": {
      "text/html": [
       "<div>\n",
       "<style scoped>\n",
       "    .dataframe tbody tr th:only-of-type {\n",
       "        vertical-align: middle;\n",
       "    }\n",
       "\n",
       "    .dataframe tbody tr th {\n",
       "        vertical-align: top;\n",
       "    }\n",
       "\n",
       "    .dataframe thead th {\n",
       "        text-align: right;\n",
       "    }\n",
       "</style>\n",
       "<table border=\"1\" class=\"dataframe\">\n",
       "  <thead>\n",
       "    <tr style=\"text-align: right;\">\n",
       "      <th></th>\n",
       "      <th>data da solicitação</th>\n",
       "      <th>genero</th>\n",
       "      <th>municipio que solicitou consulta</th>\n",
       "      <th>especialidade Medica</th>\n",
       "      <th>Grau de complexidade</th>\n",
       "    </tr>\n",
       "  </thead>\n",
       "  <tbody>\n",
       "    <tr>\n",
       "      <th>1507</th>\n",
       "      <td>2022-01-01 01:57:27.412</td>\n",
       "      <td>FEMININO</td>\n",
       "      <td>CANDELARIA</td>\n",
       "      <td>OTORRINOLARINGOLOGIA ADULTO</td>\n",
       "      <td>MEDIA</td>\n",
       "    </tr>\n",
       "    <tr>\n",
       "      <th>3049</th>\n",
       "      <td>2022-01-01 01:57:28.095</td>\n",
       "      <td>MASCULINO</td>\n",
       "      <td>CANDELARIA</td>\n",
       "      <td>GASTROENTEROLOGIA ADULTO</td>\n",
       "      <td>MEDIA</td>\n",
       "    </tr>\n",
       "    <tr>\n",
       "      <th>7821</th>\n",
       "      <td>2022-01-01 01:57:29.102</td>\n",
       "      <td>FEMININO</td>\n",
       "      <td>CANDELARIA</td>\n",
       "      <td>GINECOLOGIA ESTATICA PELVICA- INCONTINENCIA UR...</td>\n",
       "      <td>MEDIA</td>\n",
       "    </tr>\n",
       "    <tr>\n",
       "      <th>9576</th>\n",
       "      <td>2022-01-01 01:57:29.293</td>\n",
       "      <td>MASCULINO</td>\n",
       "      <td>CANDELARIA</td>\n",
       "      <td>REUMATOLOGIA ADULTO</td>\n",
       "      <td>MEDIA</td>\n",
       "    </tr>\n",
       "    <tr>\n",
       "      <th>10384</th>\n",
       "      <td>2022-01-01 01:57:29.264</td>\n",
       "      <td>FEMININO</td>\n",
       "      <td>CANDELARIA</td>\n",
       "      <td>ENDOCRINOLOGIA ADULTO</td>\n",
       "      <td>MEDIA</td>\n",
       "    </tr>\n",
       "  </tbody>\n",
       "</table>\n",
       "</div>"
      ],
      "text/plain": [
       "           data da solicitação     genero municipio que solicitou consulta  \\\n",
       "1507   2022-01-01 01:57:27.412   FEMININO                       CANDELARIA   \n",
       "3049   2022-01-01 01:57:28.095  MASCULINO                       CANDELARIA   \n",
       "7821   2022-01-01 01:57:29.102   FEMININO                       CANDELARIA   \n",
       "9576   2022-01-01 01:57:29.293  MASCULINO                       CANDELARIA   \n",
       "10384  2022-01-01 01:57:29.264   FEMININO                       CANDELARIA   \n",
       "\n",
       "                                    especialidade Medica Grau de complexidade  \n",
       "1507                         OTORRINOLARINGOLOGIA ADULTO                MEDIA  \n",
       "3049                            GASTROENTEROLOGIA ADULTO                MEDIA  \n",
       "7821   GINECOLOGIA ESTATICA PELVICA- INCONTINENCIA UR...                MEDIA  \n",
       "9576                                 REUMATOLOGIA ADULTO                MEDIA  \n",
       "10384                              ENDOCRINOLOGIA ADULTO                MEDIA  "
      ]
     },
     "execution_count": 30,
     "metadata": {},
     "output_type": "execute_result"
    }
   ],
   "source": [
    "df_hospbase = df[df['municipio que solicitou consulta'] == 'CANDELARIA']\n",
    "df_hospbase.head(5)"
   ]
  },
  {
   "cell_type": "code",
   "execution_count": 31,
   "id": "c4ed516a",
   "metadata": {},
   "outputs": [
    {
     "data": {
      "text/html": [
       "<div>\n",
       "<style scoped>\n",
       "    .dataframe tbody tr th:only-of-type {\n",
       "        vertical-align: middle;\n",
       "    }\n",
       "\n",
       "    .dataframe tbody tr th {\n",
       "        vertical-align: top;\n",
       "    }\n",
       "\n",
       "    .dataframe thead th {\n",
       "        text-align: right;\n",
       "    }\n",
       "</style>\n",
       "<table border=\"1\" class=\"dataframe\">\n",
       "  <thead>\n",
       "    <tr style=\"text-align: right;\">\n",
       "      <th></th>\n",
       "      <th>data da solicitação</th>\n",
       "      <th>genero</th>\n",
       "      <th>municipio que solicitou consulta</th>\n",
       "      <th>especialidade Medica</th>\n",
       "      <th>Grau de complexidade</th>\n",
       "    </tr>\n",
       "  </thead>\n",
       "  <tbody>\n",
       "    <tr>\n",
       "      <th>917033</th>\n",
       "      <td>2022-01-01 01:58:39.023</td>\n",
       "      <td>FEMININO</td>\n",
       "      <td>CANDELARIA</td>\n",
       "      <td>ENDOCRINOLOGIA PEDIATRICA</td>\n",
       "      <td>MEDIA</td>\n",
       "    </tr>\n",
       "    <tr>\n",
       "      <th>922573</th>\n",
       "      <td>2022-01-01 01:58:39.719</td>\n",
       "      <td>MASCULINO</td>\n",
       "      <td>CANDELARIA</td>\n",
       "      <td>ORTOPEDIA COLUNA PEDIATRICA</td>\n",
       "      <td>MEDIA</td>\n",
       "    </tr>\n",
       "    <tr>\n",
       "      <th>934050</th>\n",
       "      <td>2022-01-01 01:58:41.984</td>\n",
       "      <td>MASCULINO</td>\n",
       "      <td>CANDELARIA</td>\n",
       "      <td>DERMATOLOGIA ADULTO</td>\n",
       "      <td>MEDIA</td>\n",
       "    </tr>\n",
       "    <tr>\n",
       "      <th>941526</th>\n",
       "      <td>2022-01-01 01:58:42.525</td>\n",
       "      <td>MASCULINO</td>\n",
       "      <td>CANDELARIA</td>\n",
       "      <td>CIRURGIA GERAL PEDIATRICA</td>\n",
       "      <td>MEDIA</td>\n",
       "    </tr>\n",
       "    <tr>\n",
       "      <th>942124</th>\n",
       "      <td>2022-01-01 01:58:40.931</td>\n",
       "      <td>FEMININO</td>\n",
       "      <td>CANDELARIA</td>\n",
       "      <td>PRE-NATAL MEDICINA FETAL</td>\n",
       "      <td>ALTA</td>\n",
       "    </tr>\n",
       "  </tbody>\n",
       "</table>\n",
       "</div>"
      ],
      "text/plain": [
       "            data da solicitação     genero municipio que solicitou consulta  \\\n",
       "917033  2022-01-01 01:58:39.023   FEMININO                       CANDELARIA   \n",
       "922573  2022-01-01 01:58:39.719  MASCULINO                       CANDELARIA   \n",
       "934050  2022-01-01 01:58:41.984  MASCULINO                       CANDELARIA   \n",
       "941526  2022-01-01 01:58:42.525  MASCULINO                       CANDELARIA   \n",
       "942124  2022-01-01 01:58:40.931   FEMININO                       CANDELARIA   \n",
       "\n",
       "               especialidade Medica Grau de complexidade  \n",
       "917033    ENDOCRINOLOGIA PEDIATRICA                MEDIA  \n",
       "922573  ORTOPEDIA COLUNA PEDIATRICA                MEDIA  \n",
       "934050          DERMATOLOGIA ADULTO                MEDIA  \n",
       "941526    CIRURGIA GERAL PEDIATRICA                MEDIA  \n",
       "942124     PRE-NATAL MEDICINA FETAL                 ALTA  "
      ]
     },
     "execution_count": 31,
     "metadata": {},
     "output_type": "execute_result"
    }
   ],
   "source": [
    "df_hospbase.tail(5)"
   ]
  },
  {
   "cell_type": "code",
   "execution_count": 8,
   "id": "fcf85149",
   "metadata": {},
   "outputs": [
    {
     "data": {
      "text/html": [
       "<div>\n",
       "<style scoped>\n",
       "    .dataframe tbody tr th:only-of-type {\n",
       "        vertical-align: middle;\n",
       "    }\n",
       "\n",
       "    .dataframe tbody tr th {\n",
       "        vertical-align: top;\n",
       "    }\n",
       "\n",
       "    .dataframe thead th {\n",
       "        text-align: right;\n",
       "    }\n",
       "</style>\n",
       "<table border=\"1\" class=\"dataframe\">\n",
       "  <thead>\n",
       "    <tr style=\"text-align: right;\">\n",
       "      <th></th>\n",
       "      <th>data da solicitação</th>\n",
       "      <th>genero</th>\n",
       "      <th>municipio que solicitou consulta</th>\n",
       "      <th>especialidade Medica</th>\n",
       "      <th>Grau de complexidade</th>\n",
       "    </tr>\n",
       "  </thead>\n",
       "  <tbody>\n",
       "    <tr>\n",
       "      <th>171</th>\n",
       "      <td>2022-01-01 01:57:27.579</td>\n",
       "      <td>FEMININO</td>\n",
       "      <td>SAO LEOPOLDO</td>\n",
       "      <td>OFTALMOLOGIA DESCOLAMENTO DE RETINA</td>\n",
       "      <td>ALTA</td>\n",
       "    </tr>\n",
       "    <tr>\n",
       "      <th>428</th>\n",
       "      <td>2022-01-01 01:57:28.436</td>\n",
       "      <td>FEMININO</td>\n",
       "      <td>SAO LEOPOLDO</td>\n",
       "      <td>CARDIOLOGIA ADULTO</td>\n",
       "      <td>ALTA</td>\n",
       "    </tr>\n",
       "    <tr>\n",
       "      <th>649</th>\n",
       "      <td>2022-01-01 01:57:27.151</td>\n",
       "      <td>FEMININO</td>\n",
       "      <td>SAO LEOPOLDO</td>\n",
       "      <td>REUMATOLOGIA ADULTO</td>\n",
       "      <td>ALTA</td>\n",
       "    </tr>\n",
       "    <tr>\n",
       "      <th>660</th>\n",
       "      <td>2022-01-01 01:57:27.097</td>\n",
       "      <td>MASCULINO</td>\n",
       "      <td>SAO LEOPOLDO</td>\n",
       "      <td>NEFROLOGIA ADULTO</td>\n",
       "      <td>ALTA</td>\n",
       "    </tr>\n",
       "    <tr>\n",
       "      <th>746</th>\n",
       "      <td>2022-01-01 01:57:27.139</td>\n",
       "      <td>MASCULINO</td>\n",
       "      <td>SAO LEOPOLDO</td>\n",
       "      <td>CIRURGIA GERAL PEDIATRICA</td>\n",
       "      <td>ALTA</td>\n",
       "    </tr>\n",
       "  </tbody>\n",
       "</table>\n",
       "</div>"
      ],
      "text/plain": [
       "         data da solicitação     genero municipio que solicitou consulta  \\\n",
       "171  2022-01-01 01:57:27.579   FEMININO                     SAO LEOPOLDO   \n",
       "428  2022-01-01 01:57:28.436   FEMININO                     SAO LEOPOLDO   \n",
       "649  2022-01-01 01:57:27.151   FEMININO                     SAO LEOPOLDO   \n",
       "660  2022-01-01 01:57:27.097  MASCULINO                     SAO LEOPOLDO   \n",
       "746  2022-01-01 01:57:27.139  MASCULINO                     SAO LEOPOLDO   \n",
       "\n",
       "                    especialidade Medica Grau de complexidade  \n",
       "171  OFTALMOLOGIA DESCOLAMENTO DE RETINA                 ALTA  \n",
       "428                   CARDIOLOGIA ADULTO                 ALTA  \n",
       "649                  REUMATOLOGIA ADULTO                 ALTA  \n",
       "660                    NEFROLOGIA ADULTO                 ALTA  \n",
       "746            CIRURGIA GERAL PEDIATRICA                 ALTA  "
      ]
     },
     "execution_count": 8,
     "metadata": {},
     "output_type": "execute_result"
    }
   ],
   "source": [
    "# CRIANDO SUBCONJUNTO DO DATA FRAME\n",
    "df_hospbase = df[df['municipio que solicitou consulta'] == 'SAO LEOPOLDO']\n",
    "df_hospbase.head(5)"
   ]
  },
  {
   "cell_type": "code",
   "execution_count": 10,
   "id": "8974cd3b",
   "metadata": {},
   "outputs": [
    {
     "data": {
      "text/plain": [
       "data da solicitação                 1997\n",
       "genero                              1997\n",
       "municipio que solicitou consulta    1997\n",
       "especialidade Medica                1997\n",
       "Grau de complexidade                1997\n",
       "dtype: int64"
      ]
     },
     "execution_count": 10,
     "metadata": {},
     "output_type": "execute_result"
    }
   ],
   "source": [
    "df_hospbase.count()"
   ]
  },
  {
   "cell_type": "code",
   "execution_count": 17,
   "id": "e22dd268",
   "metadata": {},
   "outputs": [
    {
     "data": {
      "text/plain": [
       "CARDIOLOGIA ADULTO              218\n",
       "OTORRINOLARINGOLOGIA ADULTO     124\n",
       "UROLOGIA ADULTO                 113\n",
       "OFTALMOLOGIA GERAL ADULTO        89\n",
       "CIRURGIA GERAL PEDIATRICA        88\n",
       "                               ... \n",
       "NEUROCIRURGIA PEDIATRICA          1\n",
       "TRATAMENTO DA DOR                 1\n",
       "NEURORADIOLOGIA ENDOVASCULAR      1\n",
       "GINECOLOGIA MAMA                  1\n",
       "INFECTOLOGIA HIV PEDIATRICA       1\n",
       "Name: especialidade Medica, Length: 124, dtype: int64"
      ]
     },
     "execution_count": 17,
     "metadata": {},
     "output_type": "execute_result"
    }
   ],
   "source": [
    "df_hospbase['especialidade Medica'].value_counts()"
   ]
  },
  {
   "cell_type": "code",
   "execution_count": 52,
   "id": "0ec47bd4",
   "metadata": {},
   "outputs": [
    {
     "data": {
      "text/plain": [
       "<AxesSubplot:>"
      ]
     },
     "execution_count": 52,
     "metadata": {},
     "output_type": "execute_result"
    },
    {
     "data": {
      "image/png": "[encoded data removed]",
      "text/plain": [
       "<Figure size 432x288 with 1 Axes>"
      ]
     },
     "metadata": {
      "needs_background": "light"
     },
     "output_type": "display_data"
    }
   ],
   "source": [
    "#colocar grafico em horizontas\n",
    "%matplotlib inline\n",
    "\n",
    "df_hospbase['especialidade Medica'].value_counts().plot.barh()"
   ]
  },
  {
   "cell_type": "code",
   "execution_count": 26,
   "id": "36113638",
   "metadata": {},
   "outputs": [
    {
     "data": {
      "text/plain": [
       "data da solicitação                 317\n",
       "genero                              317\n",
       "municipio que solicitou consulta    317\n",
       "especialidade Medica                317\n",
       "Grau de complexidade                317\n",
       "dtype: int64"
      ]
     },
     "execution_count": 26,
     "metadata": {},
     "output_type": "execute_result"
    }
   ],
   "source": [
    "#podemos subdividir microdados\n",
    "df_hospbase[df_hospbase['especialidade Medica'].str.contains('OFTALMO')].count()\n"
   ]
  },
  {
   "cell_type": "code",
   "execution_count": 53,
   "id": "c85f5f42",
   "metadata": {},
   "outputs": [
    {
     "data": {
      "text/html": [
       "<div>\n",
       "<style scoped>\n",
       "    .dataframe tbody tr th:only-of-type {\n",
       "        vertical-align: middle;\n",
       "    }\n",
       "\n",
       "    .dataframe tbody tr th {\n",
       "        vertical-align: top;\n",
       "    }\n",
       "\n",
       "    .dataframe thead th {\n",
       "        text-align: right;\n",
       "    }\n",
       "</style>\n",
       "<table border=\"1\" class=\"dataframe\">\n",
       "  <thead>\n",
       "    <tr style=\"text-align: right;\">\n",
       "      <th></th>\n",
       "      <th>data da solicitação</th>\n",
       "      <th>genero</th>\n",
       "      <th>municipio que solicitou consulta</th>\n",
       "      <th>especialidade Medica</th>\n",
       "      <th>Grau de complexidade</th>\n",
       "    </tr>\n",
       "  </thead>\n",
       "  <tbody>\n",
       "    <tr>\n",
       "      <th>10</th>\n",
       "      <td>2022-01-01 01:57:27.125</td>\n",
       "      <td>MASCULINO</td>\n",
       "      <td>PORTO ALEGRE</td>\n",
       "      <td>CARDIOLOGIA ADULTO</td>\n",
       "      <td>MEDIA</td>\n",
       "    </tr>\n",
       "    <tr>\n",
       "      <th>375</th>\n",
       "      <td>2022-01-01 01:57:28.317</td>\n",
       "      <td>FEMININO</td>\n",
       "      <td>CANOAS</td>\n",
       "      <td>CARDIOLOGIA ADULTO</td>\n",
       "      <td>MEDIA</td>\n",
       "    </tr>\n",
       "    <tr>\n",
       "      <th>384</th>\n",
       "      <td>2022-01-01 01:57:28.339</td>\n",
       "      <td>FEMININO</td>\n",
       "      <td>PORTO ALEGRE</td>\n",
       "      <td>CARDIOLOGIA ADULTO</td>\n",
       "      <td>MEDIA</td>\n",
       "    </tr>\n",
       "    <tr>\n",
       "      <th>428</th>\n",
       "      <td>2022-01-01 01:57:28.436</td>\n",
       "      <td>FEMININO</td>\n",
       "      <td>SAO LEOPOLDO</td>\n",
       "      <td>CARDIOLOGIA ADULTO</td>\n",
       "      <td>ALTA</td>\n",
       "    </tr>\n",
       "    <tr>\n",
       "      <th>446</th>\n",
       "      <td>2022-01-01 01:57:28.491</td>\n",
       "      <td>FEMININO</td>\n",
       "      <td>PORTO ALEGRE</td>\n",
       "      <td>CARDIOLOGIA ADULTO</td>\n",
       "      <td>MEDIA</td>\n",
       "    </tr>\n",
       "  </tbody>\n",
       "</table>\n",
       "</div>"
      ],
      "text/plain": [
       "         data da solicitação     genero municipio que solicitou consulta  \\\n",
       "10   2022-01-01 01:57:27.125  MASCULINO                     PORTO ALEGRE   \n",
       "375  2022-01-01 01:57:28.317   FEMININO                           CANOAS   \n",
       "384  2022-01-01 01:57:28.339   FEMININO                     PORTO ALEGRE   \n",
       "428  2022-01-01 01:57:28.436   FEMININO                     SAO LEOPOLDO   \n",
       "446  2022-01-01 01:57:28.491   FEMININO                     PORTO ALEGRE   \n",
       "\n",
       "    especialidade Medica Grau de complexidade  \n",
       "10    CARDIOLOGIA ADULTO                MEDIA  \n",
       "375   CARDIOLOGIA ADULTO                MEDIA  \n",
       "384   CARDIOLOGIA ADULTO                MEDIA  \n",
       "428   CARDIOLOGIA ADULTO                 ALTA  \n",
       "446   CARDIOLOGIA ADULTO                MEDIA  "
      ]
     },
     "execution_count": 53,
     "metadata": {},
     "output_type": "execute_result"
    }
   ],
   "source": [
    "# dividindo especialidade\n",
    "df_oftalmo = df[df['especialidade Medica'] == 'CARDIOLOGIA ADULTO']\n",
    "df_oftalmo.head()"
   ]
  },
  {
   "cell_type": "code",
   "execution_count": 48,
   "id": "c26ae74a",
   "metadata": {},
   "outputs": [
    {
     "data": {
      "text/plain": [
       "data da solicitação                 34615\n",
       "genero                              34615\n",
       "municipio que solicitou consulta    34615\n",
       "especialidade Medica                34615\n",
       "Grau de complexidade                34615\n",
       "dtype: int64"
      ]
     },
     "execution_count": 48,
     "metadata": {},
     "output_type": "execute_result"
    }
   ],
   "source": [
    "df_oftalmo[df_oftalmo['especialidade Medica'].str.contains('CARDIO')].count()"
   ]
  },
  {
   "cell_type": "code",
   "execution_count": 49,
   "id": "5ca8c793",
   "metadata": {},
   "outputs": [
    {
     "data": {
      "text/plain": [
       "MEDIA    26478\n",
       "ALTA      8137\n",
       "Name: Grau de complexidade, dtype: int64"
      ]
     },
     "execution_count": 49,
     "metadata": {},
     "output_type": "execute_result"
    }
   ],
   "source": [
    "df_oftalmo['Grau de complexidade'].value_counts()"
   ]
  },
  {
   "cell_type": "code",
   "execution_count": 63,
   "id": "f38481fe",
   "metadata": {},
   "outputs": [
    {
     "data": {
      "text/plain": [
       "<AxesSubplot:title={'center':'Definição de sexo ou genero'}>"
      ]
     },
     "execution_count": 63,
     "metadata": {},
     "output_type": "execute_result"
    },
    {
     "data": {
      "image/png": "[encoded data removed]",
      "text/plain": [
       "<Figure size 432x288 with 1 Axes>"
      ]
     },
     "metadata": {
      "needs_background": "light"
     },
     "output_type": "display_data"
    }
   ],
   "source": [
    "df_oftalmo['genero'].value_counts(ascending=True).plot.barh(title='Definição de sexo ou genero')"
   ]
  },
  {
   "cell_type": "code",
   "execution_count": null,
   "id": "a7fc9217",
   "metadata": {},
   "outputs": [],
   "source": []
  },
  {
   "cell_type": "code",
   "execution_count": null,
   "id": "25bd3fda",
   "metadata": {},
   "outputs": [],
   "source": []
  }
 ],
 "metadata": {
  "kernelspec": {
   "display_name": "Python 3 (ipykernel)",
   "language": "python",
   "name": "python3"
  },
  "language_info": {
   "codemirror_mode": {
    "name": "ipython",
    "version": 3
   },
   "file_extension": ".py",
   "mimetype": "text/x-python",
   "name": "python",
   "nbconvert_exporter": "python",
   "pygments_lexer": "ipython3",
   "version": "3.9.7"
  }
 },
 "nbformat": 4,
 "nbformat_minor": 5
}
